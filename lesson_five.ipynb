{
 "cells": [
  {
   "cell_type": "markdown",
   "metadata": {},
   "source": [
    "# Задания по пятому уроку"
   ]
  },
  {
   "cell_type": "code",
   "execution_count": 10,
   "metadata": {},
   "outputs": [],
   "source": [
    "import numpy as np\n",
    "import matplotlib.pyplot as plt\n",
    "import matplotlib.mlab as mlab\n",
    "import itertools, math"
   ]
  },
  {
   "cell_type": "markdown",
   "metadata": {},
   "source": [
    "### Первое задание "
   ]
  },
  {
   "cell_type": "code",
   "execution_count": 2,
   "metadata": {},
   "outputs": [
    {
     "name": "stdout",
     "output_type": "stream",
     "text": [
      "3\n",
      "0.5843568634467301\n"
     ]
    }
   ],
   "source": [
    "print(np.random.randint(0,36))\n",
    "print(np.random.uniform(0,1))"
   ]
  },
  {
   "cell_type": "code",
   "execution_count": 3,
   "metadata": {},
   "outputs": [
    {
     "name": "stdout",
     "output_type": "stream",
     "text": [
      "\n",
      "25 - черное\n",
      "\n",
      "15 - черное\n",
      "\n",
      "27 - черное\n",
      "\n",
      "12 - красное\n",
      "\n",
      "15 - красное\n"
     ]
    }
   ],
   "source": [
    "for i in range(0, 5):\n",
    "    a = input()\n",
    "    zero = 1/37\n",
    "    x = np.random.uniform(0, 1)\n",
    "    num = np.random.randint(0,36)\n",
    "    if x<18/37:\n",
    "        print(f\"{num} - черное\")\n",
    "    elif x>18/37:\n",
    "        print(f\"{num} - красное\")\n",
    "    elif x <=(1-36/37):\n",
    "        print('Zero')"
   ]
  },
  {
   "cell_type": "markdown",
   "metadata": {},
   "source": [
    "### Второе задание\n"
   ]
  },
  {
   "cell_type": "code",
   "execution_count": 7,
   "metadata": {},
   "outputs": [
    {
     "name": "stdout",
     "output_type": "stream",
     "text": [
      "Теорема доказана, вероятность равна: 1.0\n"
     ]
    }
   ],
   "source": [
    "teor_sum = 0\n",
    "p_num = 1/37\n",
    "for i in range(37):\n",
    "    teor_sum +=p_num\n",
    "    \n",
    "if round(teor_sum,2) ==1:\n",
    "    print(f'Теорема доказана, вероятность равна: {round(teor_sum,2)}')"
   ]
  },
  {
   "cell_type": "code",
   "execution_count": 8,
   "metadata": {},
   "outputs": [
    {
     "data": {
      "text/plain": [
       "array([0.95071244, 0.6825383 , 0.95078134, 0.28687818, 0.99401445,\n",
       "       0.1712342 , 0.74262387, 0.71878015, 0.45681676, 0.55795998])"
      ]
     },
     "execution_count": 8,
     "metadata": {},
     "output_type": "execute_result"
    }
   ],
   "source": [
    "np.random.rand(10)"
   ]
  },
  {
   "cell_type": "code",
   "execution_count": 9,
   "metadata": {},
   "outputs": [
    {
     "data": {
      "text/plain": [
       "Text(0.5, 1.0, 'Histogram')"
      ]
     },
     "execution_count": 9,
     "metadata": {},
     "output_type": "execute_result"
    },
    {
     "data": {
      "image/png": "[encoded data removed]",
      "text/plain": [
       "<Figure size 432x288 with 1 Axes>"
      ]
     },
     "metadata": {
      "needs_background": "light"
     },
     "output_type": "display_data"
    }
   ],
   "source": [
    "x1=np.random.rand(10)\n",
    "x2=np.random.rand(10)\n",
    "x3=np.random.rand(10)\n",
    "x4=np.random.rand(10)\n",
    "x5=np.random.rand(10)\n",
    "x6=np.random.rand(10)\n",
    "x7=np.random.rand(10)\n",
    "x8=np.random.rand(10)\n",
    "x9=np.random.rand(10)\n",
    "x10=np.random.rand(10)\n",
    "\n",
    "summa = [sum(x1),sum(x2),sum(x3),sum(x4),sum(x5),sum(x6),sum(x7),sum(x8),sum(x9),sum(x10)]\n",
    "# print(summa)\n",
    "\n",
    "x = summa\n",
    "num_bins = 10\n",
    "n, bins, patches = plt.hist(x, num_bins)\n",
    "plt.xlabel('x')\n",
    "plt.ylabel('Probability')\n",
    "plt.title('Histogram')"
   ]
  },
  {
   "cell_type": "markdown",
   "metadata": {},
   "source": [
    "### Третье задание "
   ]
  },
  {
   "cell_type": "code",
   "execution_count": 11,
   "metadata": {},
   "outputs": [
    {
     "name": "stdout",
     "output_type": "stream",
     "text": [
      "Количество успехов:23404, Количество испытаний: 100000, Вероятность успеха: 0.23404\n",
      "--------------------------------------------------------------------------------\n",
      "Вероятность выпадения 2-х успехов на 4-х испытаниях\n",
      "--------------------------------------------------------------------------------\n",
      "Коэффициент С: 15.0\n",
      "Вероятность двух успехов из 4-х испытаний:0.234375\n"
     ]
    }
   ],
   "source": [
    "k, n = 0, 100000\n",
    "a = np.random.randint(0, 2, n)\n",
    "b = np.random.randint(0, 2, n)\n",
    "c = np.random.randint(0, 2, n)\n",
    "d = np.random.randint(0, 2, n)\n",
    "e = np.random.randint(0, 2, n)\n",
    "f = np.random.randint(0, 2, n)\n",
    "x = a + b + c + d + e + f\n",
    "for i in range(0, n):\n",
    "    if x[i] == 2:\n",
    "        k = k + 1\n",
    "\n",
    "print(f'Количество успехов:{k}, Количество испытаний: {n}, Вероятность успеха: {k/n}')\n",
    "print('-'*80)\n",
    "print('Вероятность выпадения 2-х успехов на 4-х испытаниях')\n",
    "print('-'*80)\n",
    "count = 6\n",
    "success = 2\n",
    "koef_bern = math.factorial(count)/( math.factorial(success)* math.factorial(count - success))\n",
    "print(f'Коэффициент С: {koef_bern}')\n",
    "form_bern = koef_bern * 1/pow(2,count)\n",
    "print(f'Вероятность двух успехов из 4-х испытаний:{form_bern}')"
   ]
  },
  {
   "cell_type": "markdown",
   "metadata": {},
   "source": [
    "### Четвертое задание "
   ]
  },
  {
   "cell_type": "code",
   "execution_count": 12,
   "metadata": {},
   "outputs": [
    {
     "name": "stdout",
     "output_type": "stream",
     "text": [
      "1235\n",
      "1253\n",
      "1325\n",
      "1352\n",
      "1523\n",
      "1532\n",
      "2135\n",
      "2153\n",
      "2315\n",
      "2351\n",
      "2513\n",
      "2531\n",
      "3125\n",
      "3152\n",
      "3215\n",
      "3251\n",
      "3512\n",
      "3521\n",
      "5123\n",
      "5132\n",
      "5213\n",
      "5231\n",
      "5312\n",
      "5321\n"
     ]
    }
   ],
   "source": [
    "for p in itertools.permutations(\"1235\",4):\n",
    "    print(''.join(str(x) for x in p))"
   ]
  },
  {
   "cell_type": "code",
   "execution_count": 14,
   "metadata": {},
   "outputs": [
    {
     "name": "stdout",
     "output_type": "stream",
     "text": [
      "00\n",
      "01\n",
      "02\n",
      "10\n",
      "11\n",
      "12\n",
      "20\n",
      "21\n",
      "22\n"
     ]
    }
   ],
   "source": [
    "for p in itertools.product(\"012\",repeat=2):\n",
    "    print(''.join(p))"
   ]
  },
  {
   "cell_type": "code",
   "execution_count": 16,
   "metadata": {},
   "outputs": [
    {
     "name": "stdout",
     "output_type": "stream",
     "text": [
      "012\n",
      "013\n",
      "023\n",
      "123\n"
     ]
    }
   ],
   "source": [
    "for p in itertools.combinations(\"0123\",3):\n",
    "    print(''.join(p))"
   ]
  },
  {
   "cell_type": "markdown",
   "metadata": {},
   "source": [
    "### Пятое задание "
   ]
  },
  {
   "cell_type": "code",
   "execution_count": 17,
   "metadata": {},
   "outputs": [
    {
     "data": {
      "image/png": "[encoded data removed]",
      "text/plain": [
       "<Figure size 432x288 with 1 Axes>"
      ]
     },
     "metadata": {
      "needs_background": "light"
     },
     "output_type": "display_data"
    },
    {
     "name": "stdout",
     "output_type": "stream",
     "text": [
      "Коэффициент корреляции: 0.9427179662159246\n"
     ]
    }
   ],
   "source": [
    "n = 100\n",
    "r = 0.7\n",
    "x = np.random.rand(n)\n",
    "y = r*x + r*np.random.rand(n)\n",
    "plt.plot(x, y, 'o')\n",
    "plt.xlabel('x')\n",
    "plt.ylabel('y')\n",
    "plt.grid(True)\n",
    "# print(x)\n",
    "# print(y)\n",
    "\n",
    "a = (np.sum(x)*np.sum(y) - n*np.sum(x*y))/(np.sum(x)*np.sum(x) - n*np.sum(x*x))\n",
    "b = (np.sum(y) - a*np.sum(x))/n\n",
    "\n",
    "# A = np.vstack([x, np.ones(len(x))]).T\n",
    "# a1, b1 = np.linalg.lstsq(A, y)[0]\n",
    "# print(a, b)\n",
    "# print(a1, b1)\n",
    "plt.plot([0, 1], [b, a + b])\n",
    "plt.show()\n",
    "corel_coef = sum((x - x/n) * (y - y/n)) / (math.sqrt(sum((x-x/n)*(x-x/n)) * sum((y-y/n)*(y-y/n))))\n",
    "print(f'Коэффициент корреляции: {corel_coef}')"
   ]
  },
  {
   "cell_type": "code",
   "execution_count": null,
   "metadata": {},
   "outputs": [],
   "source": []
  }
 ],
 "metadata": {
  "kernelspec": {
   "display_name": "Python 3",
   "language": "python",
   "name": "python3"
  },
  "language_info": {
   "codemirror_mode": {
    "name": "ipython",
    "version": 3
   },
   "file_extension": ".py",
   "mimetype": "text/x-python",
   "name": "python",
   "nbconvert_exporter": "python",
   "pygments_lexer": "ipython3",
   "version": "3.7.4"
  }
 },
 "nbformat": 4,
 "nbformat_minor": 2
}
