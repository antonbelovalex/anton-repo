{
 "cells": [
  {
   "cell_type": "markdown",
   "metadata": {
    "colab_type": "text",
    "id": "5C58707GSj1o"
   },
   "source": [
    "# Урок 2\n",
    "Дискретные случайные величины. Закон распределения вероятностей. Биномиальный закон распределения. Распределение Пуассона\n",
    "\n",
    "Домашнее задание"
   ]
  },
  {
   "cell_type": "code",
   "execution_count": 1,
   "metadata": {
    "colab": {},
    "colab_type": "code",
    "id": "owxSNYumb5rO"
   },
   "outputs": [],
   "source": [
    "import numpy as np\n",
    "from matplotlib import pyplot as plt\n",
    "plt.style.use('seaborn-whitegrid')"
   ]
  },
  {
   "cell_type": "code",
   "execution_count": 1,
   "metadata": {},
   "outputs": [],
   "source": [
    "def arrangements(n: int, k: int) -> int:\n",
    "  \"\"\"Число размещений.\"\"\"\n",
    "  return np.math.factorial(n) // np.math.factorial(n - k)\n",
    "\n",
    "def permutations(n: int) -> int:\n",
    "  \"\"\"Число перестановок.\"\"\"\n",
    "  return np.math.factorial(n)\n",
    "\n",
    "def combinations(n: int, k: int) -> int:\n",
    "  \"\"\"Число сочетаний.\"\"\"\n",
    "  return np.math.factorial(n) // (np.math.factorial(k) * np.math.factorial(n - k))"
   ]
  },
  {
   "cell_type": "markdown",
   "metadata": {
    "colab_type": "text",
    "id": "2qZTeJ-pVnZA"
   },
   "source": [
    "## Задача 1\n",
    "Контрольная работа состоит из пяти вопросов. На каждый вопрос приведено четыре варианта ответа, один из которых правильный. Составьте закон распределения числа правильных ответов при простом угадывании. Найдите `M(X)`, `D(X)`."
   ]
  },
  {
   "cell_type": "markdown",
   "metadata": {
    "colab_type": "text",
    "id": "Mn3EDYiLU0i_"
   },
   "source": [
    "**Решение**\n",
    "\n",
    "При простом угадывании вероятнось угадать каждый ответ = 1/4. Решение по биномиальному распределению"
   ]
  },
  {
   "cell_type": "code",
   "execution_count": 9,
   "metadata": {},
   "outputs": [],
   "source": [
    "n = 5\n",
    "p = 1/4"
   ]
  },
  {
   "cell_type": "code",
   "execution_count": 10,
   "metadata": {},
   "outputs": [],
   "source": [
    "def proba(k: int) -> float:\n",
    "    return combinations(n, k) * (p ** k) * ((1 - p) ** (n-k))"
   ]
  },
  {
   "cell_type": "code",
   "execution_count": 14,
   "metadata": {
    "colab": {
     "base_uri": "https://localhost:8080/",
     "height": 52
    },
    "colab_type": "code",
    "id": "rICPpm0qwXB7",
    "outputId": "c4f3eef1-0091-4d91-b79f-1f53bc98f261"
   },
   "outputs": [
    {
     "name": "stdout",
     "output_type": "stream",
     "text": [
      "[0 1 2 3 4 5]\n"
     ]
    }
   ],
   "source": [
    "x_values = np.arange(0, n +1)\n",
    "print(x_values)"
   ]
  },
  {
   "cell_type": "code",
   "execution_count": 13,
   "metadata": {},
   "outputs": [
    {
     "name": "stdout",
     "output_type": "stream",
     "text": [
      "[0.23730469 0.39550781 0.26367188 0.08789062 0.01464844 0.00097656]\n"
     ]
    }
   ],
   "source": [
    "x_probas = np.array([proba(value) for value in x_values])\n",
    "print(x_probas)"
   ]
  },
  {
   "cell_type": "code",
   "execution_count": 16,
   "metadata": {},
   "outputs": [
    {
     "data": {
      "image/png": "[encoded data removed]",
      "text/plain": [
       "<Figure size 432x288 with 1 Axes>"
      ]
     },
     "metadata": {},
     "output_type": "display_data"
    }
   ],
   "source": [
    "plt.plot(x_values, x_probas);"
   ]
  },
  {
   "cell_type": "markdown",
   "metadata": {},
   "source": [
    "Вычислим M(X) и D(X)"
   ]
  },
  {
   "cell_type": "code",
   "execution_count": 18,
   "metadata": {},
   "outputs": [
    {
     "name": "stdout",
     "output_type": "stream",
     "text": [
      "M(X) = 1.25\n",
      "D(X) = 0.9375\n"
     ]
    }
   ],
   "source": [
    "print(f'M(X) = {n * p}')\n",
    "print(f'D(X) = {n * p * (1 - p)}')"
   ]
  },
  {
   "cell_type": "markdown",
   "metadata": {
    "colab_type": "text",
    "id": "A85yDskzVnjI"
   },
   "source": [
    "## Задача 2\n",
    "Пользователь получает в среднем 10 писем со спамом на свой почтовый ящик за сутки. Найти число N, такое, что с вероятностью 0.95 пользователь получит не более N писем со спамом за текущий день."
   ]
  },
  {
   "cell_type": "markdown",
   "metadata": {
    "colab_type": "text",
    "id": "drZFwyueV_B4"
   },
   "source": [
    "**Решение**\n",
    "\n",
    "Задача решается через распределение Пуассона. \n",
    "- $\\lambda$ = 10 писем в сутки\n",
    "- 0.95 - это сумма вероятностей при k < N\n",
    "$$P(X \\leq N) = \\displaystyle\\sum_{i = 0}^{N} \\dfrac{10^{i} e^{-10}}{i!} = 0.95$$"
   ]
  },
  {
   "cell_type": "code",
   "execution_count": 19,
   "metadata": {
    "colab": {},
    "colab_type": "code",
    "id": "5TEH3_1Da2Eh"
   },
   "outputs": [],
   "source": [
    "def poisson_proba(k: int, lambda_: float) -> float:\n",
    "    \"\"\"Формула Пуассона.\n",
    "    \"\"\"    \n",
    "    return (lambda_ ** k) * (np.exp(-lambda_)) / np.math.factorial(k)"
   ]
  },
  {
   "cell_type": "code",
   "execution_count": 20,
   "metadata": {
    "colab": {
     "base_uri": "https://localhost:8080/",
     "height": 312
    },
    "colab_type": "code",
    "id": "0-h6Fxp2h1O9",
    "outputId": "fb3355d9-1f64-4f97-f1f4-392183277eed"
   },
   "outputs": [
    {
     "name": "stdout",
     "output_type": "stream",
     "text": [
      "n = -1 0\n",
      "n = 0 0\n",
      "n = 1 4.5399929762484854e-05\n",
      "n = 2 0.0004993992273873334\n",
      "n = 3 0.0027693957155115762\n",
      "n = 4 0.010336050675925718\n",
      "n = 5 0.029252688076961072\n",
      "n = 6 0.06708596287903178\n",
      "n = 7 0.13014142088248296\n",
      "n = 8 0.22022064660169893\n",
      "n = 9 0.33281967875071894\n",
      "n = 10 0.45792971447185227\n",
      "n = 11 0.5830397501929856\n",
      "n = 12 0.6967761463031068\n",
      "n = 13 0.7915564763948745\n",
      "n = 14 0.8644644226193111\n",
      "n = 15 0.9165415270653373\n",
      "n = 16 0.9512595966960214\n",
      "n = 17 0.972958390215199\n"
     ]
    }
   ],
   "source": [
    "for n in range(-1, 18):\n",
    "\n",
    "    print(f'n = {n}', \n",
    "        sum(poisson_proba(k=i, lambda_=10) for i in range(n))\n",
    "    )"
   ]
  },
  {
   "cell_type": "code",
   "execution_count": 21,
   "metadata": {},
   "outputs": [
    {
     "name": "stdout",
     "output_type": "stream",
     "text": [
      "15 0.9512595966960214\n"
     ]
    }
   ],
   "source": [
    "# Вариант из разбора ДЗ\n",
    "i = -1\n",
    "p = 0\n",
    "\n",
    "while p < 0.95:\n",
    "    i += 1\n",
    "    p += poisson_proba(i, lambda_=10)\n",
    "\n",
    "print(i, p)"
   ]
  },
  {
   "cell_type": "markdown",
   "metadata": {
    "colab_type": "text",
    "id": "ft8QSGSAOuLU"
   },
   "source": [
    "с вероятностью примерно 0.95 число писем должно быть до 16"
   ]
  },
  {
   "cell_type": "markdown",
   "metadata": {
    "colab_type": "text",
    "id": "DXDujz7fVntA"
   },
   "source": [
    "## Задача 3\n",
    "Производятся выстрелы по мишени. Вероятность попадания в мишень при одном выстреле равна 0.01. Сколько выстрелов нужно сделать чтобы быть уверенным с вероятностью 0.9, что хотя бы 6 раз будет совершено попадание?\n",
    "\n",
    "*Подсказка*. 1) \"Вероятность попасть k раз при n выстрелах\" - на какое распределение это похоже? 2) А если нам нужна вероятность P(X >= k), а не P(X = k)? 3) Здесь предстоит немножко покодить."
   ]
  },
  {
   "cell_type": "markdown",
   "metadata": {
    "colab": {},
    "colab_type": "code",
    "id": "_DiWAJQxb4m3"
   },
   "source": [
    "Вероятность попадания в цель при одном выстреле равна p. Производится n\n",
    "выстрелов. Найти вероятность того, что цель будет поражена в точности k раз (будет k попаданий)."
   ]
  },
  {
   "cell_type": "code",
   "execution_count": 2,
   "metadata": {
    "colab": {},
    "colab_type": "code",
    "id": "wlzUwUL9a0UC"
   },
   "outputs": [
    {
     "ename": "NameError",
     "evalue": "name 'x' is not defined",
     "output_type": "error",
     "traceback": [
      "\u001b[0;31m---------------------------------------------------------------------------\u001b[0m",
      "\u001b[0;31mNameError\u001b[0m                                 Traceback (most recent call last)",
      "\u001b[0;32m<ipython-input-2-eb739f4cdee2>\u001b[0m in \u001b[0;36m<module>\u001b[0;34m\u001b[0m\n\u001b[0;32m----> 1\u001b[0;31m \u001b[0motvet\u001b[0m \u001b[0;34m=\u001b[0m \u001b[0mcombinations\u001b[0m\u001b[0;34m(\u001b[0m\u001b[0mx\u001b[0m\u001b[0;34m,\u001b[0m \u001b[0;36m6\u001b[0m\u001b[0;34m)\u001b[0m \u001b[0;34m*\u001b[0m \u001b[0;34m(\u001b[0m\u001b[0;36m0.01\u001b[0m\u001b[0;34m**\u001b[0m\u001b[0;36m6\u001b[0m\u001b[0;34m)\u001b[0m \u001b[0;34m*\u001b[0m \u001b[0;34m(\u001b[0m\u001b[0;36m1\u001b[0m \u001b[0;34m-\u001b[0m \u001b[0;36m0.01\u001b[0m\u001b[0;34m)\u001b[0m\u001b[0;34m**\u001b[0m\u001b[0;34m(\u001b[0m\u001b[0mx\u001b[0m \u001b[0;34m-\u001b[0m \u001b[0;36m6\u001b[0m\u001b[0;34m)\u001b[0m\u001b[0;34m\u001b[0m\u001b[0;34m\u001b[0m\u001b[0m\n\u001b[0m",
      "\u001b[0;31mNameError\u001b[0m: name 'x' is not defined"
     ]
    }
   ],
   "source": [
    "otvet = combinations(x, 6) * (0.01**6) * (1 - 0.01)**(x - 6) "
   ]
  }
 ],
 "metadata": {
  "colab": {
   "collapsed_sections": [],
   "name": "Les_3.1.2 DZ.ipynb",
   "provenance": [],
   "toc_visible": true
  },
  "kernelspec": {
   "display_name": "Python 3",
   "language": "python",
   "name": "python3"
  },
  "language_info": {
   "codemirror_mode": {
    "name": "ipython",
    "version": 3
   },
   "file_extension": ".py",
   "mimetype": "text/x-python",
   "name": "python",
   "nbconvert_exporter": "python",
   "pygments_lexer": "ipython3",
   "version": "3.7.4"
  }
 },
 "nbformat": 4,
 "nbformat_minor": 4
}
